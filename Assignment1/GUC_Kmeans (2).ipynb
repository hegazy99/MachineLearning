{
 "cells": [
  {
   "cell_type": "markdown",
   "metadata": {},
   "source": [
    "# GUC NETW 1003 Kmeans Assginmnet "
   ]
  },
  {
   "cell_type": "markdown",
   "metadata": {},
   "source": [
    "Objective: exercise is to learn how to use build and use  kmeans clustering algortrithm    \n",
    "\n",
    "At the end of this lab you will be able to\n",
    "> 1. Build and run a K-means algorithm.\n",
    "> 2. Know how to evalute K-means Algorithm \n",
    "> 2. Understand the effect of the parmeters ont he perfromance of the algorithm .\n",
    "> 3. Understand the effect of distance."
   ]
  },
  {
   "cell_type": "markdown",
   "metadata": {},
   "source": [
    "## 1. Wirte K means function "
   ]
  },
  {
   "cell_type": "markdown",
   "metadata": {},
   "source": [
    "import required libraries "
   ]
  },
  {
   "cell_type": "code",
   "execution_count": null,
   "metadata": {},
   "outputs": [],
   "source": [
    "import numpy as np, pandas as pd\n",
    "import random\n",
    "# import numpy as np, pandas as pd, seaborn as sns, matplotlib.pyplot as plt\n",
    "# from sklearn.datasets import make_blobs\n",
    "# from sklearn.datasets import make_moons"
   ]
  },
  {
   "cell_type": "code",
   "execution_count": null,
   "metadata": {},
   "outputs": [],
   "source": [
    "df = pd.read_csv(\"Customer data.csv\")\n",
    "data_points = df.to_numpy()"
   ]
  },
  {
   "cell_type": "code",
   "execution_count": null,
   "metadata": {},
   "outputs": [],
   "source": [
    "data_points"
   ]
  },
  {
   "cell_type": "markdown",
   "metadata": {},
   "source": [
    "> ### 1.1. Code for the distance function "
   ]
  },
  {
   "attachments": {},
   "cell_type": "markdown",
   "metadata": {},
   "source": [
    "write a function to calculate the distance between a set of cluster centroids and all the data points \n",
    "\n",
    "Cluster_Distances = GUC_Distance ( Cluster_Centroids, Data_points, Distance_Type) \n",
    "* The function shoud be able to handel data points with any number of features and any number of points \n",
    "* The function should be able to handle any K number of cluster centroids \n",
    "* To inrease speed do that in matrix format using numpy\n",
    "* This should produce a matrix with rows equal to data points columns equal K \n",
    "* You should be able to calculate different types of Distance. In this assginmnet you are required to implement the following two \n",
    "    - Ecluidian distance\n",
    "    - Pearson correlation distance\n",
    "  "
   ]
  },
  {
   "cell_type": "code",
   "execution_count": null,
   "metadata": {},
   "outputs": [],
   "source": [
    "def get_euclidean_distance(point1, point2):\n",
    "    distance = 0\n",
    "    for i in range(len(point1)):\n",
    "        distance += np.square(point1[i] - point2[i])\n",
    "    return np.sqrt(distance)"
   ]
  },
  {
   "cell_type": "code",
   "execution_count": null,
   "metadata": {},
   "outputs": [],
   "source": [
    "def get_pearson_distance(point1, point2):\n",
    "    return 0"
   ]
  },
  {
   "cell_type": "code",
   "execution_count": null,
   "metadata": {},
   "outputs": [],
   "source": [
    "def GUC_Distance ( Cluster_Centroids, Data_points, Distance_Type ):\n",
    "    Cluster_Distance = np.zeros((len(Data_points), len(Cluster_Centroids)))\n",
    "    for i in range(len(Data_points)):\n",
    "        point = Data_points[i]\n",
    "        for j in range(len(Cluster_Centroids)):\n",
    "            centroid = Cluster_Centroids[j]\n",
    "            if Distance_Type == \"E\":\n",
    "                Cluster_Distance[i][j] = get_euclidean_distance(point, centroid)\n",
    "            else:\n",
    "                Cluster_Distance[i][j] = get_pearson_distance(point, centroid)\n",
    "    return Cluster_Distance"
   ]
  },
  {
   "cell_type": "markdown",
   "metadata": {},
   "source": [
    "> ### 1.2. Code for K means function "
   ]
  },
  {
   "cell_type": "raw",
   "metadata": {},
   "source": [
    "Create the intial cluster heads \n",
    " 1. For each data colom find the data ranges \n",
    " 2. randomly generate a number of cluster heads equal to K (th number of clusters)   "
   ]
  },
  {
   "attachments": {},
   "cell_type": "markdown",
   "metadata": {},
   "source": [
    "> Loop until a stopping condition \n",
    "\n",
    "> > in the loop do the following \n",
    "> > 1. Cluster Assginmnet \n",
    "> > > * Use the GUC_Distance to calculate between each cluster head and all the points \n",
    "> > > * Find the value and index of the minimum distance  for each row. \n",
    "> > > * for each point in the row use the index of the minmum distance to represent the cluster Centroid that this point will belong to.\n",
    "> > > * Calculate and record the mean square distance for each cluster  \n",
    "> > > * Use the mean square distances to calculate a stopping condition (e.g the sum of mean distances)\n",
    "> > 2. Updtate Centroids  \n",
    "> > > * Update the value for the cluster heads by calculating the mean value for the points in each cluster \n",
    "> > >  * Calculate the Cluster Metric (Distortion Function)\n",
    "> > > > a number indicating the how good the clusters are . An example cluster metric is the  (sum of squared error between each point and its cluster center) "
   ]
  },
  {
   "cell_type": "code",
   "execution_count": null,
   "metadata": {},
   "outputs": [],
   "source": [
    "def generate_random_centroids(Data_points, k):\n",
    "    min = np.full(len(Data_points[0]), np.iinfo(np.int64).max)\n",
    "    max = np.full(len(Data_points[0]), np.iinfo(np.int64).min)\n",
    "    for point in Data_points:\n",
    "        for i in range(len(point)):\n",
    "            value = point[i]\n",
    "            min_value = min[i]\n",
    "            max_value = max[i]\n",
    "            if value < min_value:\n",
    "                min[i] = value\n",
    "            if value > max_value:\n",
    "                max[i] = value\n",
    "    \n",
    "    centroids = []\n",
    "    for i in range(k):\n",
    "        center = []\n",
    "        for i in range(len(min)):\n",
    "            center.append(random.randint(min[i], max[i]))\n",
    "        centroids.append(center)\n",
    "    return np.array(centroids)"
   ]
  },
  {
   "cell_type": "code",
   "execution_count": null,
   "metadata": {},
   "outputs": [],
   "source": [
    "def GUC_Kmean(Data_points, Number_of_Clusters,  Distance_Type):\n",
    "   # write code for intial cluster heads here\n",
    "   old_centroids = []\n",
    "   new_centroids = generate_random_centroids(Data_points, Number_of_Clusters)\n",
    "   clusters = []\n",
    "   # write your your loop\n",
    "   while not np.array_equal(old_centroids, new_centroids):\n",
    "      old_centroids = new_centroids\n",
    "      distances = GUC_Distance(old_centroids, Data_points, Distance_Type)\n",
    "      clusters = [[] for i in range(Number_of_Clusters)]\n",
    "      for i in range(len(distances)):\n",
    "         row = distances[i]\n",
    "         cluster_num = np.argmin(row)\n",
    "         clusters[cluster_num].append(Data_points[i])\n",
    "      new_centroids = []\n",
    "      for i in range(Number_of_Clusters):\n",
    "         new_centroids.append(np.mean(clusters[i], axis=0))\n",
    "      new_centroids = np.array(new_centroids)\n",
    "      clusters = clusters\n",
    "   for cluster in clusters:\n",
    "          print(len(cluster))\n",
    "   Final_Cluster_Distance = new_centroids\n",
    "   Cluster_Metric = 0\n",
    "   return [ Final_Cluster_Distance , Cluster_Metric ]"
   ]
  },
  {
   "cell_type": "code",
   "execution_count": null,
   "metadata": {},
   "outputs": [],
   "source": [
    "output = GUC_Kmean(data_points, 3, \"E\")\n",
    "centroids = output[0]"
   ]
  },
  {
   "cell_type": "markdown",
   "metadata": {},
   "source": [
    "## 2. Display Results "
   ]
  },
  {
   "cell_type": "markdown",
   "metadata": {},
   "source": [
    "* below is a an example fuction that displayes Clusters in 2D \n",
    "\n",
    "* You need to change the function so that is can display an n dimension data in the form of pairs of subplot 2D figures \n",
    "\n",
    "* The function is a helper function that is originaly be found in \n",
    "https://www.coursera.org/learn/ibm-unsupervised-learning/\n"
   ]
  },
  {
   "cell_type": "code",
   "execution_count": null,
   "metadata": {},
   "outputs": [],
   "source": [
    "import numpy as np, pandas as pd, seaborn as sns, matplotlib.pyplot as plt"
   ]
  },
  {
   "cell_type": "markdown",
   "metadata": {},
   "source": [
    "> #### 2.1. helper Display function "
   ]
  },
  {
   "cell_type": "code",
   "execution_count": null,
   "metadata": {},
   "outputs": [],
   "source": [
    "# helper function that allows us to display data in 2 dimensions an highlights the clusters\n",
    "def display_cluster(X,km=[],num_clusters=0):\n",
    "    color = 'brgcmyk'  #List colors\n",
    "    alpha = 0.5  #color obaque\n",
    "    s = 20\n",
    "    if num_clusters == 0:\n",
    "        plt.scatter(X[:,0],X[:,1],c = color[0],alpha = alpha,s = s)\n",
    "    else:\n",
    "        for i in range(num_clusters):\n",
    "            plt.scatter(X[km.labels_==i,0],X[km.labels_==i,1],c = color[i],alpha = alpha,s=s)\n",
    "            plt.scatter(km.cluster_centers_[i][0],km.cluster_centers_[i][1],c = color[i], marker = 'x', s = 100)"
   ]
  },
  {
   "cell_type": "markdown",
   "metadata": {},
   "source": [
    "> #### 2.2. Example 1 : Circular Data Gen and display "
   ]
  },
  {
   "cell_type": "markdown",
   "metadata": {},
   "source": [
    "* below is an example of how to use the funciton \n",
    "  *  prepare the figure size and background \n",
    "   > * this part can be replaced by a number of subplots \n",
    "  \n",
    "  * Produce a data set that represent the x and y o coordinates of a circle \n",
    "   > * this part can be replaced by data that you import froma file \n",
    "  \n",
    "  * Data is displayed \n",
    "   > * to display the data only it is assumed that the number of clusters is zero which is the default of the fuction "
   ]
  },
  {
   "cell_type": "code",
   "execution_count": null,
   "metadata": {},
   "outputs": [],
   "source": [
    "# prepare the figure sise and background \n",
    "# this part can be replaced by a number of subplots \n",
    "plt.rcParams['figure.figsize'] = [8,8]\n",
    "sns.set_style(\"whitegrid\")\n",
    "sns.set_context(\"talk\")\n",
    "# Produce a data set that represent the x and y o coordinates of a circle \n",
    "# this part can be replaced by data that you import froma file \n",
    "angle = np.linspace(0,2*np.pi,20, endpoint = False)\n",
    "X = np.append([np.cos(angle)],[np.sin(angle)],0).transpose()\n",
    "# Data is displayed \n",
    "# to display the data only it is assumed that the number of clusters is zero which is the default of the fuction \n",
    "display_cluster(X)"
   ]
  },
  {
   "cell_type": "markdown",
   "metadata": {},
   "source": [
    "> #### 2.3. Example 2 : Multi blob Data Gen and display "
   ]
  },
  {
   "cell_type": "code",
   "execution_count": null,
   "metadata": {},
   "outputs": [],
   "source": [
    "n_samples = 1000\n",
    "n_bins = 4  \n",
    "centers = [(-3, -3), (0, 0), (3, 3), (6, 6), (9,9)]\n",
    "X, y = make_blobs(n_samples=n_samples, n_features=2, cluster_std=1.0,\n",
    "                  centers=centers, shuffle=False, random_state=42)\n",
    "display_cluster(X)"
   ]
  },
  {
   "cell_type": "markdown",
   "metadata": {},
   "source": [
    "#### 2.3. Example 3 : moons Data Gen and display "
   ]
  },
  {
   "cell_type": "code",
   "execution_count": null,
   "metadata": {},
   "outputs": [],
   "source": [
    "n_samples = 1000\n",
    "X, y = noisy_moons = make_moons(n_samples=n_samples, noise= .1)\n",
    "display_cluster(X)"
   ]
  },
  {
   "cell_type": "markdown",
   "metadata": {},
   "source": [
    "## 3. Testing the GUC_Kmean function on Simple 2D\n",
    "1. Apply the GUC_Kmean fucntion to 2D Data provided by example 1, Example 2 and Example 3\n",
    "2. Try a varing number of cluster centriods that range from 2 to 10 clusters on each set \n",
    "3. Display your results.\n",
    "4. plot the Cluster perfromance Metric versus the number of clusters\n",
    "4. Change the distance function and repeat the above steps "
   ]
  },
  {
   "cell_type": "code",
   "execution_count": null,
   "metadata": {},
   "outputs": [],
   "source": []
  },
  {
   "cell_type": "markdown",
   "metadata": {},
   "source": [
    "## 4. Using the GUC_Kmean function to segment customers int he provided customer dataset\n",
    "1. Apply the GUC_Kmean fucntion to customer data  \n",
    "2. Try a varing number of cluster that range from 2 to 10 cluster on each set \n",
    "3. Display your results.\n",
    "4. plot the Cluster Metric versus the number of clusters\n",
    "4. Change the distance function and repeat the above steps "
   ]
  },
  {
   "cell_type": "code",
   "execution_count": null,
   "metadata": {},
   "outputs": [],
   "source": []
  }
 ],
 "metadata": {
  "kernelspec": {
   "display_name": "Python 3",
   "language": "python",
   "name": "python3"
  },
  "language_info": {
   "codemirror_mode": {
    "name": "ipython",
    "version": 3
   },
   "file_extension": ".py",
   "mimetype": "text/x-python",
   "name": "python",
   "nbconvert_exporter": "python",
   "pygments_lexer": "ipython3",
   "version": "3.8.12"
  }
 },
 "nbformat": 4,
 "nbformat_minor": 2
}
